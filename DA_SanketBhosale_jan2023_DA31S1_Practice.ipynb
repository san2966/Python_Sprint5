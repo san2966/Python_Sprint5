{
 "cells": [
  {
   "cell_type": "markdown",
   "id": "743b7b39",
   "metadata": {},
   "source": [
    "# Task-1:- Checking if a word is a palindrome"
   ]
  },
  {
   "cell_type": "markdown",
   "id": "48b5c162",
   "metadata": {},
   "source": [
    "-- Create a user defined function to accept a word from user and check if the word is palindrome or not."
   ]
  },
  {
   "cell_type": "code",
   "execution_count": null,
   "id": "6fb3c21a",
   "metadata": {},
   "outputs": [],
   "source": [
    "def palindrome():\n",
    "    Input=input('write a word here: ')\n",
    "    Reverse=Input[::-1]\n",
    "    if Input==Reverse:\n",
    "        print(Input,'is a palidrome word')\n",
    "    else:\n",
    "        print(Input,'its not a palidrome word')"
   ]
  },
  {
   "cell_type": "code",
   "execution_count": null,
   "id": "99ea42d9",
   "metadata": {},
   "outputs": [],
   "source": [
    "palindrome()"
   ]
  },
  {
   "cell_type": "markdown",
   "id": "d9003ebd",
   "metadata": {},
   "source": [
    "### Interpretation:\n",
    "    -- first we create a function named as 'palindrome'\n",
    "    -- Then enter a code for taking input from user\n",
    "    -- after that reverse the inputed word \n",
    "    -- if the both inputed and reversed word is matched it shows output as palindrome word\n",
    "    -- otherwise shows output as not a palindrome word"
   ]
  },
  {
   "cell_type": "markdown",
   "id": "55af3f53",
   "metadata": {},
   "source": [
    "-- ======================================================================================================================"
   ]
  },
  {
   "cell_type": "markdown",
   "id": "a1a4bf5c",
   "metadata": {},
   "source": [
    "# Task-2:- Sorting Words"
   ]
  },
  {
   "cell_type": "markdown",
   "id": "968692ce",
   "metadata": {},
   "source": [
    "-- Create a user defined function to accept the multiple words from user and store them in list.\n",
    "-- sort the words in alphabetical order and print them"
   ]
  },
  {
   "cell_type": "code",
   "execution_count": 6,
   "id": "f6f44225",
   "metadata": {},
   "outputs": [],
   "source": [
    "def user_input():\n",
    "    words=[]\n",
    "    word=input('Enter the Word here:')\n",
    "    words.append(word)"
   ]
  },
  {
   "cell_type": "code",
   "execution_count": 7,
   "id": "222152f1",
   "metadata": {},
   "outputs": [
    {
     "name": "stdout",
     "output_type": "stream",
     "text": [
      "Enter the Word here:ad\n",
      "Enter the Word here:ef\n",
      "Enter the Word here:tehn\n",
      "Enter the Word here:yjnr\n",
      "Enter the Word here:w4g\n"
     ]
    },
    {
     "ename": "NameError",
     "evalue": "name 'words' is not defined",
     "output_type": "error",
     "traceback": [
      "\u001b[1;31m---------------------------------------------------------------------------\u001b[0m",
      "\u001b[1;31mNameError\u001b[0m                                 Traceback (most recent call last)",
      "\u001b[1;32m~\\AppData\\Local\\Temp\\ipykernel_9988\\1059213723.py\u001b[0m in \u001b[0;36m<module>\u001b[1;34m\u001b[0m\n\u001b[0;32m      1\u001b[0m \u001b[1;32mfor\u001b[0m \u001b[0mi\u001b[0m \u001b[1;32min\u001b[0m \u001b[0mrange\u001b[0m\u001b[1;33m(\u001b[0m\u001b[1;36m0\u001b[0m\u001b[1;33m,\u001b[0m\u001b[1;36m5\u001b[0m\u001b[1;33m)\u001b[0m\u001b[1;33m:\u001b[0m\u001b[1;33m\u001b[0m\u001b[1;33m\u001b[0m\u001b[0m\n\u001b[0;32m      2\u001b[0m     \u001b[0muser_input\u001b[0m\u001b[1;33m(\u001b[0m\u001b[1;33m)\u001b[0m\u001b[1;33m\u001b[0m\u001b[1;33m\u001b[0m\u001b[0m\n\u001b[1;32m----> 3\u001b[1;33m \u001b[0mprint\u001b[0m\u001b[1;33m(\u001b[0m\u001b[0mwords\u001b[0m\u001b[1;33m)\u001b[0m\u001b[1;33m\u001b[0m\u001b[1;33m\u001b[0m\u001b[0m\n\u001b[0m\u001b[0;32m      4\u001b[0m \u001b[0msorted\u001b[0m\u001b[1;33m(\u001b[0m\u001b[0mwords\u001b[0m\u001b[1;33m)\u001b[0m\u001b[1;33m\u001b[0m\u001b[1;33m\u001b[0m\u001b[0m\n",
      "\u001b[1;31mNameError\u001b[0m: name 'words' is not defined"
     ]
    }
   ],
   "source": [
    "for i in range(0,5):\n",
    "    user_input()\n",
    "print(words)\n",
    "sorted(words)"
   ]
  },
  {
   "cell_type": "markdown",
   "id": "46fe33db",
   "metadata": {},
   "source": [
    "### Interpretation:\n",
    "    -- first we create a function named as 'user_input' which takes input from user and store into list\n",
    "    -- after that we print the list and sort it alphabetically"
   ]
  },
  {
   "cell_type": "markdown",
   "id": "548e28a0",
   "metadata": {},
   "source": [
    "-- ======================================================================================================================"
   ]
  },
  {
   "cell_type": "markdown",
   "id": "9e0071dd",
   "metadata": {},
   "source": [
    "# Task-3:- Converting Characters to a string"
   ]
  },
  {
   "cell_type": "markdown",
   "id": "5f68a8aa",
   "metadata": {},
   "source": [
    "-- Create a user defined function to accept user input as a list of characters.\n",
    "-- Convert the list of characters into a string and display the output."
   ]
  },
  {
   "cell_type": "code",
   "execution_count": 8,
   "id": "876c3b98",
   "metadata": {},
   "outputs": [],
   "source": [
    "def string_join():\n",
    "    l1=list(input('enter a character here:'))\n",
    "    Join=''.join(l1)\n",
    "    print(Join)\n",
    "    return Join"
   ]
  },
  {
   "cell_type": "code",
   "execution_count": 10,
   "id": "bfc7b25c",
   "metadata": {},
   "outputs": [
    {
     "name": "stdout",
     "output_type": "stream",
     "text": [
      "enter a character here:a\n",
      "a\n",
      "enter a character here:l\n",
      "l\n",
      "enter a character here:p\n",
      "p\n",
      "enter a character here:h\n",
      "h\n",
      "enter a character here:a\n",
      "a\n"
     ]
    },
    {
     "ename": "TypeError",
     "evalue": "'function' object is not iterable",
     "output_type": "error",
     "traceback": [
      "\u001b[1;31m---------------------------------------------------------------------------\u001b[0m",
      "\u001b[1;31mTypeError\u001b[0m                                 Traceback (most recent call last)",
      "\u001b[1;32m~\\AppData\\Local\\Temp\\ipykernel_9988\\3643747370.py\u001b[0m in \u001b[0;36m<module>\u001b[1;34m\u001b[0m\n\u001b[0;32m      1\u001b[0m \u001b[1;32mfor\u001b[0m \u001b[0mi\u001b[0m \u001b[1;32min\u001b[0m \u001b[0mrange\u001b[0m\u001b[1;33m(\u001b[0m\u001b[1;36m0\u001b[0m\u001b[1;33m,\u001b[0m\u001b[1;36m5\u001b[0m\u001b[1;33m)\u001b[0m\u001b[1;33m:\u001b[0m\u001b[1;33m\u001b[0m\u001b[1;33m\u001b[0m\u001b[0m\n\u001b[0;32m      2\u001b[0m     \u001b[0mstring_join\u001b[0m\u001b[1;33m(\u001b[0m\u001b[1;33m)\u001b[0m\u001b[1;33m\u001b[0m\u001b[1;33m\u001b[0m\u001b[0m\n\u001b[1;32m----> 3\u001b[1;33m \u001b[0mlist\u001b[0m\u001b[1;33m(\u001b[0m\u001b[0mstring_join\u001b[0m\u001b[1;33m)\u001b[0m\u001b[1;33m\u001b[0m\u001b[1;33m\u001b[0m\u001b[0m\n\u001b[0m",
      "\u001b[1;31mTypeError\u001b[0m: 'function' object is not iterable"
     ]
    }
   ],
   "source": [
    "for i in range(0,5):\n",
    "    string_join()\n",
    "list(string_join)"
   ]
  },
  {
   "cell_type": "markdown",
   "id": "4203f240",
   "metadata": {},
   "source": [
    "### Interpretation:\n",
    "    -- First create a function and take a input from the user\n",
    "    -- then use join function to join the characters.\n",
    "    -- then store it into a list"
   ]
  },
  {
   "cell_type": "markdown",
   "id": "b3a67b5f",
   "metadata": {},
   "source": [
    "-- ======================================================================================================================"
   ]
  },
  {
   "cell_type": "markdown",
   "id": "f1c005fa",
   "metadata": {},
   "source": [
    "# Task-4:- Picking the Largest and Smallest elements"
   ]
  },
  {
   "cell_type": "markdown",
   "id": "74a4f560",
   "metadata": {},
   "source": [
    "-- Create a user defined function to allow the user to input 10 numbers and save them in a list.\n",
    "-- print the smallest and largest number from the list."
   ]
  },
  {
   "cell_type": "code",
   "execution_count": null,
   "id": "2096e5a8",
   "metadata": {},
   "outputs": [],
   "source": [
    "def pick_element():\n",
    "    numbers=[]\n",
    "    for i in range(10):\n",
    "        num=int(input('Enter a number here:'))\n",
    "        numbers.append(num)\n",
    "    \n",
    "    print('smallest number are :',min(numbers))\n",
    "    print('largest number are:',max(numbers))\n",
    "    "
   ]
  },
  {
   "cell_type": "code",
   "execution_count": null,
   "id": "314d65f7",
   "metadata": {},
   "outputs": [],
   "source": [
    "pick_element()"
   ]
  },
  {
   "cell_type": "markdown",
   "id": "51fdb36d",
   "metadata": {},
   "source": [
    "### Interpretation:\n",
    "    -- first we create a function and then create a empty list to store user inputed numbers.\n",
    "    -- then we use 'min' function to find smallest number in list\n",
    "    -- after that we use 'max' to find largest number in list"
   ]
  },
  {
   "cell_type": "markdown",
   "id": "d480e5f4",
   "metadata": {},
   "source": [
    "-- ======================================================================================================================"
   ]
  },
  {
   "cell_type": "markdown",
   "id": "19ab90ec",
   "metadata": {},
   "source": [
    "# task-5:- Searching a Dictionary"
   ]
  },
  {
   "cell_type": "markdown",
   "id": "f631e56e",
   "metadata": {},
   "source": [
    "-- Create a function to accept input from the user to populate the dictionary\n",
    "-- Identify the maximum and minimum value in dictionary"
   ]
  },
  {
   "cell_type": "code",
   "execution_count": 6,
   "id": "1b5bbf09",
   "metadata": {},
   "outputs": [],
   "source": [
    "def search_dict():\n",
    "    dictionary={}\n",
    "    while True:\n",
    "        key=input('Enter a key :')\n",
    "        if not key:\n",
    "            break\n",
    "        value=float(input('Enter the value:'))\n",
    "        dictionary[key]=value\n",
    "        values=dictionary.values()\n",
    "        print('Maximun value in dictionary :',max(values))\n",
    "        print('Minimum value in dictionary :',min(values))"
   ]
  },
  {
   "cell_type": "code",
   "execution_count": 7,
   "id": "3edaf57c",
   "metadata": {},
   "outputs": [
    {
     "name": "stdout",
     "output_type": "stream",
     "text": [
      "Enter a key :item1\n",
      "Enter the value:41\n",
      "41.0\n",
      "41.0\n",
      "Enter a key :item2\n",
      "Enter the value:30\n",
      "41.0\n",
      "30.0\n",
      "Enter a key :item3\n",
      "Enter the value:20\n",
      "41.0\n",
      "20.0\n",
      "Enter a key :item4\n",
      "Enter the value:49.29\n",
      "49.29\n",
      "20.0\n",
      "Enter a key :\n"
     ]
    }
   ],
   "source": [
    "search_dict()"
   ]
  },
  {
   "cell_type": "markdown",
   "id": "beca73d8",
   "metadata": {},
   "source": [
    "-- ======================================================================================================================"
   ]
  },
  {
   "cell_type": "markdown",
   "id": "3ac9f4cf",
   "metadata": {},
   "source": [
    "# Task-6:- Generating profile card"
   ]
  },
  {
   "cell_type": "code",
   "execution_count": null,
   "id": "e9f60019",
   "metadata": {},
   "outputs": [],
   "source": [
    "-- Write a program to create a profile card of a person\n",
    "-- create a user defined function f1() to store name, age, gender, occupation as local veriables\n",
    "-- create a user defined function f2() print the values entered by earlier and generate profile card.\n",
    "-- function f2() will be called from f1()"
   ]
  },
  {
   "cell_type": "code",
   "execution_count": 10,
   "id": "4953b1b9",
   "metadata": {},
   "outputs": [],
   "source": [
    "def f1():\n",
    "    name=input('Enter your name here:')\n",
    "    age=int(input('Enter your age here:'))\n",
    "    gender=input('Enter your gender here:')\n",
    "    occupation=input('Enter your occupation here:')\n",
    "    f2(name,age,gender,occupation)\n",
    "def f2(name,age,gender,occupation):\n",
    "    print('NAME :',name)\n",
    "    print('AGE :',age)\n",
    "    print('GENDER :',gender)\n",
    "    print('OCCUPATION:',occupation)"
   ]
  },
  {
   "cell_type": "code",
   "execution_count": 11,
   "id": "499296d8",
   "metadata": {},
   "outputs": [
    {
     "name": "stdout",
     "output_type": "stream",
     "text": [
      "Enter your name here:john mac\n",
      "Enter your age here:40\n",
      "Enter your gender here:male\n",
      "Enter your occupation here:hr\n",
      "NAME : john mac\n",
      "AGE : 40\n",
      "GENDER : male\n",
      "OCCUPATION: hr\n"
     ]
    }
   ],
   "source": [
    "f1()"
   ]
  },
  {
   "cell_type": "markdown",
   "id": "8b706fed",
   "metadata": {},
   "source": [
    "-- ======================================================================================================================"
   ]
  },
  {
   "cell_type": "markdown",
   "id": "611154a7",
   "metadata": {},
   "source": [
    "# task-7:- Sorting colour frequency in tuple"
   ]
  },
  {
   "cell_type": "markdown",
   "id": "975f234b",
   "metadata": {},
   "source": [
    "-- Create a user defined function to sort the data in the above list in ascending order."
   ]
  },
  {
   "cell_type": "code",
   "execution_count": 12,
   "id": "b1385cbe",
   "metadata": {},
   "outputs": [],
   "source": [
    "colour=[('black',4),('green',1),('red',5),('blue',2),('yellow',3)]"
   ]
  },
  {
   "cell_type": "code",
   "execution_count": 27,
   "id": "b5fcc362",
   "metadata": {},
   "outputs": [],
   "source": [
    "def sort_colour():\n",
    "    sort=sorted(colour,key=lambda x: x[1])\n",
    "    print(sort)"
   ]
  },
  {
   "cell_type": "code",
   "execution_count": 28,
   "id": "1c99ba96",
   "metadata": {},
   "outputs": [
    {
     "name": "stdout",
     "output_type": "stream",
     "text": [
      "[('green', 1), ('blue', 2), ('yellow', 3), ('black', 4), ('red', 5)]\n"
     ]
    }
   ],
   "source": [
    "sort_colour()"
   ]
  },
  {
   "cell_type": "markdown",
   "id": "425d452a",
   "metadata": {},
   "source": [
    "-- ======================================================================================================================"
   ]
  },
  {
   "cell_type": "markdown",
   "id": "73b38eec",
   "metadata": {},
   "source": [
    "# task-8:- Common data element in two lists"
   ]
  },
  {
   "cell_type": "markdown",
   "id": "4e765ca0",
   "metadata": {},
   "source": [
    "-- write a program to finda common elements in two lists using lambda expressions"
   ]
  },
  {
   "cell_type": "code",
   "execution_count": 11,
   "id": "ce8c3d40",
   "metadata": {},
   "outputs": [],
   "source": [
    "a=['Andy','Mandy','Sandy']\n",
    "b=['Handy','Burgandy','Mandy']"
   ]
  },
  {
   "cell_type": "code",
   "execution_count": 18,
   "id": "44135a87",
   "metadata": {},
   "outputs": [],
   "source": [
    "def common():\n",
    "    common=list(filter(lambda x: x in a,b))\n",
    "    print(common)"
   ]
  },
  {
   "cell_type": "code",
   "execution_count": 19,
   "id": "b4557fa7",
   "metadata": {},
   "outputs": [
    {
     "name": "stdout",
     "output_type": "stream",
     "text": [
      "['Mandy']\n"
     ]
    }
   ],
   "source": [
    "common()"
   ]
  },
  {
   "cell_type": "markdown",
   "id": "99c23660",
   "metadata": {},
   "source": [
    "-- ======================================================================================================================"
   ]
  },
  {
   "cell_type": "markdown",
   "id": "b0e7f594",
   "metadata": {},
   "source": [
    "# Task-9:- Map function with lambda"
   ]
  },
  {
   "cell_type": "markdown",
   "id": "6dfa224e",
   "metadata": {},
   "source": [
    "-- Write a program to add each element of llist c with corrosponding element of d\n",
    "-- using the map function and lambda expression"
   ]
  },
  {
   "cell_type": "code",
   "execution_count": 34,
   "id": "2519e10a",
   "metadata": {},
   "outputs": [],
   "source": [
    "c=[12,14,14]\n",
    "d=[17,16,17]"
   ]
  },
  {
   "cell_type": "code",
   "execution_count": 37,
   "id": "e39539ae",
   "metadata": {},
   "outputs": [],
   "source": [
    "def add_lists():\n",
    "    add=list(map(lambda x,y:x+y,c,d))\n",
    "    print(add)"
   ]
  },
  {
   "cell_type": "code",
   "execution_count": 38,
   "id": "599c89ef",
   "metadata": {},
   "outputs": [
    {
     "name": "stdout",
     "output_type": "stream",
     "text": [
      "[29, 30, 31]\n"
     ]
    }
   ],
   "source": [
    "add_lists()"
   ]
  },
  {
   "cell_type": "markdown",
   "id": "0c25ae73",
   "metadata": {},
   "source": [
    "-- ======================================================================================================================"
   ]
  },
  {
   "cell_type": "markdown",
   "id": "42fefc5d",
   "metadata": {},
   "source": [
    "# Task-10:- Working with dates"
   ]
  },
  {
   "cell_type": "markdown",
   "id": "e34cc9c1",
   "metadata": {},
   "source": [
    "-- Develop a function that accep a date of birth and date of joining ofan employee\n",
    "-- Determin the employee is over 18 years of age\n",
    "-- The function should accept dob and doj as two arguments and return true or false"
   ]
  },
  {
   "cell_type": "code",
   "execution_count": 42,
   "id": "e648a4ee",
   "metadata": {},
   "outputs": [],
   "source": [
    "def date(dob,doj):\n",
    "    dob_month,dob_day,dob_year=dob.split(\"-\")\n",
    "    doj_month,doj_day,doj_year=doj.split(\"-\")\n",
    "    age=int(doj_year)-int(dob_year)\n",
    "    if age>=18:\n",
    "        return True\n",
    "    else:\n",
    "        return False"
   ]
  },
  {
   "cell_type": "code",
   "execution_count": 44,
   "id": "553ab7b5",
   "metadata": {},
   "outputs": [
    {
     "name": "stdout",
     "output_type": "stream",
     "text": [
      "True\n"
     ]
    }
   ],
   "source": [
    "dob=\"12-25-1991\"\n",
    "doj=\"4-25-2020\"\n",
    "a=date(dob,doj)\n",
    "print(a)"
   ]
  },
  {
   "cell_type": "code",
   "execution_count": 45,
   "id": "91e85f7b",
   "metadata": {},
   "outputs": [
    {
     "data": {
      "text/plain": [
       "True"
      ]
     },
     "execution_count": 45,
     "metadata": {},
     "output_type": "execute_result"
    }
   ],
   "source": [
    "date('12-25-1991','4-25-2020')"
   ]
  },
  {
   "cell_type": "markdown",
   "id": "95415491",
   "metadata": {},
   "source": [
    "-- ======================================================================================================================"
   ]
  }
 ],
 "metadata": {
  "kernelspec": {
   "display_name": "Python 3 (ipykernel)",
   "language": "python",
   "name": "python3"
  },
  "language_info": {
   "codemirror_mode": {
    "name": "ipython",
    "version": 3
   },
   "file_extension": ".py",
   "mimetype": "text/x-python",
   "name": "python",
   "nbconvert_exporter": "python",
   "pygments_lexer": "ipython3",
   "version": "3.9.13"
  }
 },
 "nbformat": 4,
 "nbformat_minor": 5
}
